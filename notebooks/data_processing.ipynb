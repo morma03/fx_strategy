{
 "cells": [
  {
   "cell_type": "code",
   "execution_count": 1,
   "metadata": {},
   "outputs": [],
   "source": [
    "import sys\n",
    "import os\n",
    "sys.path.append(os.path.abspath(os.path.join(os.getcwd(), '../src')))\n",
    "from utils.data_processing_tick import convert_to_tick\n",
    "from utils.holiday_utils import remove_friday\n",
    "notebook_path = os.path.abspath(os.path.join(os.getcwd(), '../notebooks'))\n",
    "from utils.histdata import import_pair\n",
    "from utils.data_processing_timestamp import convert_to_every_30min\n",
    "from utils.data_processing_timestamp import resample_fx_return_by_every_hour\n",
    "output_file_path = rf'{notebook_path}\\data\\processed'"
   ]
  },
  {
   "cell_type": "markdown",
   "metadata": {},
   "source": [
    "**Get Data from histdata.com**"
   ]
  },
  {
   "cell_type": "code",
   "execution_count": 3,
   "metadata": {},
   "outputs": [
    {
     "name": "stderr",
     "output_type": "stream",
     "text": [
      "ERROR:root:No traceback has been produced, nothing to debug.\n"
     ]
    },
    {
     "data": {
      "application/vnd.jupyter.widget-view+json": {
       "model_id": "640e85e95f884b4f88e5c116b5233e11",
       "version_major": 2,
       "version_minor": 0
      },
      "text/plain": [
       "Output()"
      ]
     },
     "metadata": {},
     "output_type": "display_data"
    },
    {
     "data": {
      "text/html": [
       "<pre style=\"white-space:pre;overflow-x:auto;line-height:normal;font-family:Menlo,'DejaVu Sans Mono',consolas,'Courier New',monospace\"></pre>\n"
      ],
      "text/plain": []
     },
     "metadata": {},
     "output_type": "display_data"
    },
    {
     "data": {
      "application/vnd.jupyter.widget-view+json": {
       "model_id": "e3f371a715d94e5b897e94f8591213b5",
       "version_major": 2,
       "version_minor": 0
      },
      "text/plain": [
       "Output()"
      ]
     },
     "metadata": {},
     "output_type": "display_data"
    },
    {
     "data": {
      "text/html": [
       "<pre style=\"white-space:pre;overflow-x:auto;line-height:normal;font-family:Menlo,'DejaVu Sans Mono',consolas,'Courier New',monospace\"></pre>\n"
      ],
      "text/plain": []
     },
     "metadata": {},
     "output_type": "display_data"
    },
    {
     "data": {
      "application/vnd.jupyter.widget-view+json": {
       "model_id": "ea77f58df05e40439da61abc1f4f162b",
       "version_major": 2,
       "version_minor": 0
      },
      "text/plain": [
       "Output()"
      ]
     },
     "metadata": {},
     "output_type": "display_data"
    },
    {
     "data": {
      "text/html": [
       "<pre style=\"white-space:pre;overflow-x:auto;line-height:normal;font-family:Menlo,'DejaVu Sans Mono',consolas,'Courier New',monospace\"></pre>\n"
      ],
      "text/plain": []
     },
     "metadata": {},
     "output_type": "display_data"
    },
    {
     "data": {
      "application/vnd.jupyter.widget-view+json": {
       "model_id": "40a1a22b0ce34d44b508a1807311d461",
       "version_major": 2,
       "version_minor": 0
      },
      "text/plain": [
       "Output()"
      ]
     },
     "metadata": {},
     "output_type": "display_data"
    },
    {
     "data": {
      "text/html": [
       "<pre style=\"white-space:pre;overflow-x:auto;line-height:normal;font-family:Menlo,'DejaVu Sans Mono',consolas,'Courier New',monospace\"></pre>\n"
      ],
      "text/plain": []
     },
     "metadata": {},
     "output_type": "display_data"
    }
   ],
   "source": [
    "# Get intraday data from histdata.com\n",
    "%debug\n",
    "year = 2023\n",
    "currency = \"jpxjpy\"\n",
    "import_pair(pair=currency, start=f\"{year}01\", end=f\"{year}12\", data_directory=r\"data/raw\")"
   ]
  },
  {
   "cell_type": "markdown",
   "metadata": {},
   "source": [
    "**Create Renko Brick Data**"
   ]
  },
  {
   "cell_type": "code",
   "execution_count": 2,
   "metadata": {},
   "outputs": [
    {
     "name": "stderr",
     "output_type": "stream",
     "text": [
      "ERROR:root:No traceback has been produced, nothing to debug.\n"
     ]
    },
    {
     "name": "stdout",
     "output_type": "stream",
     "text": [
      "Tick-like data has been saved to tick_like_data.csv\n",
      "   tick_number            datetime    price  actual_openprice  ticks_moved  \\\n",
      "0            1 2023-01-01 18:05:00  1.20515           1.20494            1   \n",
      "1            2 2023-01-01 18:07:00  1.20615           1.20668            1   \n",
      "2            3 2023-01-01 18:20:00  1.20815           1.20816            2   \n",
      "3            4 2023-01-01 18:58:00  1.20915           1.20945            1   \n",
      "4            5 2023-01-01 19:39:00  1.20815           1.20799            1   \n",
      "\n",
      "   directions  fx_return day_of_week  \n",
      "0          -1        NaN      Sunday  \n",
      "1           1   0.144406      Sunday  \n",
      "2           1   0.122651      Sunday  \n",
      "3           1   0.106774      Sunday  \n",
      "4          -1  -0.120716      Sunday  \n"
     ]
    },
    {
     "data": {
      "text/html": [
       "<div>\n",
       "<style scoped>\n",
       "    .dataframe tbody tr th:only-of-type {\n",
       "        vertical-align: middle;\n",
       "    }\n",
       "\n",
       "    .dataframe tbody tr th {\n",
       "        vertical-align: top;\n",
       "    }\n",
       "\n",
       "    .dataframe thead th {\n",
       "        text-align: right;\n",
       "    }\n",
       "</style>\n",
       "<table border=\"1\" class=\"dataframe\">\n",
       "  <thead>\n",
       "    <tr style=\"text-align: right;\">\n",
       "      <th></th>\n",
       "      <th>tick_number</th>\n",
       "      <th>datetime</th>\n",
       "      <th>price</th>\n",
       "      <th>actual_openprice</th>\n",
       "      <th>ticks_moved</th>\n",
       "      <th>directions</th>\n",
       "      <th>fx_return</th>\n",
       "      <th>day_of_week</th>\n",
       "    </tr>\n",
       "  </thead>\n",
       "  <tbody>\n",
       "    <tr>\n",
       "      <th>0</th>\n",
       "      <td>1</td>\n",
       "      <td>2023-01-01 18:05:00</td>\n",
       "      <td>1.20515</td>\n",
       "      <td>1.20494</td>\n",
       "      <td>1</td>\n",
       "      <td>-1</td>\n",
       "      <td>NaN</td>\n",
       "      <td>Sunday</td>\n",
       "    </tr>\n",
       "    <tr>\n",
       "      <th>1</th>\n",
       "      <td>2</td>\n",
       "      <td>2023-01-01 18:07:00</td>\n",
       "      <td>1.20615</td>\n",
       "      <td>1.20668</td>\n",
       "      <td>1</td>\n",
       "      <td>1</td>\n",
       "      <td>0.144406</td>\n",
       "      <td>Sunday</td>\n",
       "    </tr>\n",
       "    <tr>\n",
       "      <th>2</th>\n",
       "      <td>3</td>\n",
       "      <td>2023-01-01 18:20:00</td>\n",
       "      <td>1.20815</td>\n",
       "      <td>1.20816</td>\n",
       "      <td>2</td>\n",
       "      <td>1</td>\n",
       "      <td>0.122651</td>\n",
       "      <td>Sunday</td>\n",
       "    </tr>\n",
       "    <tr>\n",
       "      <th>3</th>\n",
       "      <td>4</td>\n",
       "      <td>2023-01-01 18:58:00</td>\n",
       "      <td>1.20915</td>\n",
       "      <td>1.20945</td>\n",
       "      <td>1</td>\n",
       "      <td>1</td>\n",
       "      <td>0.106774</td>\n",
       "      <td>Sunday</td>\n",
       "    </tr>\n",
       "    <tr>\n",
       "      <th>4</th>\n",
       "      <td>5</td>\n",
       "      <td>2023-01-01 19:39:00</td>\n",
       "      <td>1.20815</td>\n",
       "      <td>1.20799</td>\n",
       "      <td>1</td>\n",
       "      <td>-1</td>\n",
       "      <td>-0.120716</td>\n",
       "      <td>Sunday</td>\n",
       "    </tr>\n",
       "    <tr>\n",
       "      <th>...</th>\n",
       "      <td>...</td>\n",
       "      <td>...</td>\n",
       "      <td>...</td>\n",
       "      <td>...</td>\n",
       "      <td>...</td>\n",
       "      <td>...</td>\n",
       "      <td>...</td>\n",
       "      <td>...</td>\n",
       "    </tr>\n",
       "    <tr>\n",
       "      <th>7260</th>\n",
       "      <td>7261</td>\n",
       "      <td>2023-12-29 13:02:00</td>\n",
       "      <td>1.27515</td>\n",
       "      <td>1.27494</td>\n",
       "      <td>1</td>\n",
       "      <td>-1</td>\n",
       "      <td>-0.100296</td>\n",
       "      <td>Friday</td>\n",
       "    </tr>\n",
       "    <tr>\n",
       "      <th>7261</th>\n",
       "      <td>7262</td>\n",
       "      <td>2023-12-29 14:06:00</td>\n",
       "      <td>1.27415</td>\n",
       "      <td>1.27411</td>\n",
       "      <td>1</td>\n",
       "      <td>-1</td>\n",
       "      <td>-0.065101</td>\n",
       "      <td>Friday</td>\n",
       "    </tr>\n",
       "    <tr>\n",
       "      <th>7262</th>\n",
       "      <td>7263</td>\n",
       "      <td>2023-12-29 15:09:00</td>\n",
       "      <td>1.27515</td>\n",
       "      <td>1.27535</td>\n",
       "      <td>1</td>\n",
       "      <td>1</td>\n",
       "      <td>0.097323</td>\n",
       "      <td>Friday</td>\n",
       "    </tr>\n",
       "    <tr>\n",
       "      <th>7263</th>\n",
       "      <td>7264</td>\n",
       "      <td>2023-12-29 16:09:00</td>\n",
       "      <td>1.27415</td>\n",
       "      <td>1.27407</td>\n",
       "      <td>1</td>\n",
       "      <td>-1</td>\n",
       "      <td>-0.100365</td>\n",
       "      <td>Friday</td>\n",
       "    </tr>\n",
       "    <tr>\n",
       "      <th>7264</th>\n",
       "      <td>7265</td>\n",
       "      <td>2023-12-29 16:56:00</td>\n",
       "      <td>1.27315</td>\n",
       "      <td>1.27309</td>\n",
       "      <td>1</td>\n",
       "      <td>-1</td>\n",
       "      <td>-0.076919</td>\n",
       "      <td>Friday</td>\n",
       "    </tr>\n",
       "  </tbody>\n",
       "</table>\n",
       "<p>7265 rows × 8 columns</p>\n",
       "</div>"
      ],
      "text/plain": [
       "      tick_number            datetime    price  actual_openprice  ticks_moved  \\\n",
       "0               1 2023-01-01 18:05:00  1.20515           1.20494            1   \n",
       "1               2 2023-01-01 18:07:00  1.20615           1.20668            1   \n",
       "2               3 2023-01-01 18:20:00  1.20815           1.20816            2   \n",
       "3               4 2023-01-01 18:58:00  1.20915           1.20945            1   \n",
       "4               5 2023-01-01 19:39:00  1.20815           1.20799            1   \n",
       "...           ...                 ...      ...               ...          ...   \n",
       "7260         7261 2023-12-29 13:02:00  1.27515           1.27494            1   \n",
       "7261         7262 2023-12-29 14:06:00  1.27415           1.27411            1   \n",
       "7262         7263 2023-12-29 15:09:00  1.27515           1.27535            1   \n",
       "7263         7264 2023-12-29 16:09:00  1.27415           1.27407            1   \n",
       "7264         7265 2023-12-29 16:56:00  1.27315           1.27309            1   \n",
       "\n",
       "      directions  fx_return day_of_week  \n",
       "0             -1        NaN      Sunday  \n",
       "1              1   0.144406      Sunday  \n",
       "2              1   0.122651      Sunday  \n",
       "3              1   0.106774      Sunday  \n",
       "4             -1  -0.120716      Sunday  \n",
       "...          ...        ...         ...  \n",
       "7260          -1  -0.100296      Friday  \n",
       "7261          -1  -0.065101      Friday  \n",
       "7262           1   0.097323      Friday  \n",
       "7263          -1  -0.100365      Friday  \n",
       "7264          -1  -0.076919      Friday  \n",
       "\n",
       "[7265 rows x 8 columns]"
      ]
     },
     "execution_count": 2,
     "metadata": {},
     "output_type": "execute_result"
    }
   ],
   "source": [
    "# Convet_to_tick function : create renko data from intraday historical data\n",
    "%debug\n",
    "\n",
    "year = \"2023\"\n",
    "ccy = \"gbpusd\"\n",
    "brick_size = 0.001 # 0.001 for EURUSD/EURGBP/GBPUSD, 0.1 for USDJPY\n",
    "use_first_price_as_base=False # True: use first price as base, False: use previous price as base\n",
    "\n",
    "csv_filepath = rf'{notebook_path}\\data\\raw\\ASCII\\M1\\{ccy.lower()}\\{year}'\n",
    "csv_filename = f'DAT_ASCII_{ccy.upper()}_M1_{year}.csv'\n",
    "\n",
    "if (use_first_price_as_base):\n",
    "    output_filename = f'{year}_{ccy.lower()}_tick_first_price_as_base.csv'\n",
    "else:\n",
    "    output_filename = f'{year}_{ccy.lower()}_tick_prev_price_as_base.csv'\n",
    "\n",
    "convert_to_tick(csv_filepath, csv_filename, output_file_path, output_filename, brick_size, use_first_price_as_base) "
   ]
  },
  {
   "cell_type": "code",
   "execution_count": 3,
   "metadata": {},
   "outputs": [
    {
     "name": "stdout",
     "output_type": "stream",
     "text": [
      "Rows with 'Friday' in the 'day_of_week' column have been removed.\n",
      "Filtered data saved to: c:\\Users\\mmori\\Documents\\fx_strategy_project\\notebooks\\data\\processed/2023_gbpusd_tick_prev_price_as_base_friday_removed.csv\n"
     ]
    }
   ],
   "source": [
    "year = \"2023\"\n",
    "ccy = \"gbpusd\"\n",
    "use_first_price_as_base=False # True: use first price as base, False: use previous price as base\n",
    "\n",
    "if (use_first_price_as_base):\n",
    "    input_filename = f'{output_file_path}/{year}_{ccy.lower()}_tick_first_price_as_base.csv'\n",
    "    output_filename = f'{output_file_path}/{year}_{ccy.lower()}_tick_first_price_as_base_friday_removed.csv'\n",
    "else:\n",
    "    input_filename = f'{output_file_path}/{year}_{ccy.lower()}_tick_prev_price_as_base.csv'\n",
    "    output_filename = f'{output_file_path}/{year}_{ccy.lower()}_tick_prev_price_as_base_friday_removed.csv'\n",
    "remove_friday(input_filename, output_filename)"
   ]
  }
 ],
 "metadata": {
  "kernelspec": {
   "display_name": "fx_strategy_env",
   "language": "python",
   "name": "python3"
  },
  "language_info": {
   "codemirror_mode": {
    "name": "ipython",
    "version": 3
   },
   "file_extension": ".py",
   "mimetype": "text/x-python",
   "name": "python",
   "nbconvert_exporter": "python",
   "pygments_lexer": "ipython3",
   "version": "3.12.8"
  }
 },
 "nbformat": 4,
 "nbformat_minor": 2
}
