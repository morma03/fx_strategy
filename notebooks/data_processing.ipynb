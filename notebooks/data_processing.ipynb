{
 "cells": [
  {
   "cell_type": "code",
   "execution_count": 1,
   "metadata": {},
   "outputs": [],
   "source": [
    "import sys\n",
    "import os\n",
    "sys.path.append(os.path.abspath(os.path.join(os.getcwd(), '../src')))\n",
    "from utils.data_processing_tick import convert_to_tick\n",
    "from utils.holiday_utils import remove_friday\n",
    "from utils.holiday_utils import extract_weekday\n",
    "notebook_path = os.path.abspath(os.path.join(os.getcwd(), '../notebooks'))\n",
    "from utils.histdata import import_pair\n",
    "from utils.data_processing_timestamp import convert_to_every_30min\n",
    "from utils.data_processing_timestamp import resample_fx_return_by_every_hour\n",
    "output_file_path = rf'{notebook_path}\\data\\processed'"
   ]
  },
  {
   "cell_type": "markdown",
   "metadata": {},
   "source": [
    "**Get Data from histdata.com**"
   ]
  },
  {
   "cell_type": "code",
   "execution_count": 2,
   "metadata": {},
   "outputs": [
    {
     "name": "stderr",
     "output_type": "stream",
     "text": [
      "ERROR:root:No traceback has been produced, nothing to debug.\n"
     ]
    },
    {
     "data": {
      "application/vnd.jupyter.widget-view+json": {
       "model_id": "c519f18e5d154474b9748443eab0f78b",
       "version_major": 2,
       "version_minor": 0
      },
      "text/plain": [
       "Output()"
      ]
     },
     "metadata": {},
     "output_type": "display_data"
    },
    {
     "data": {
      "text/html": [
       "<pre style=\"white-space:pre;overflow-x:auto;line-height:normal;font-family:Menlo,'DejaVu Sans Mono',consolas,'Courier New',monospace\"></pre>\n"
      ],
      "text/plain": []
     },
     "metadata": {},
     "output_type": "display_data"
    },
    {
     "data": {
      "application/vnd.jupyter.widget-view+json": {
       "model_id": "5c8c519f3c9440ac891a0ae8f1be1768",
       "version_major": 2,
       "version_minor": 0
      },
      "text/plain": [
       "Output()"
      ]
     },
     "metadata": {},
     "output_type": "display_data"
    },
    {
     "data": {
      "text/html": [
       "<pre style=\"white-space:pre;overflow-x:auto;line-height:normal;font-family:Menlo,'DejaVu Sans Mono',consolas,'Courier New',monospace\"></pre>\n"
      ],
      "text/plain": []
     },
     "metadata": {},
     "output_type": "display_data"
    },
    {
     "data": {
      "application/vnd.jupyter.widget-view+json": {
       "model_id": "af626e96a7874829ab0d823b0c8c477a",
       "version_major": 2,
       "version_minor": 0
      },
      "text/plain": [
       "Output()"
      ]
     },
     "metadata": {},
     "output_type": "display_data"
    },
    {
     "data": {
      "text/html": [
       "<pre style=\"white-space:pre;overflow-x:auto;line-height:normal;font-family:Menlo,'DejaVu Sans Mono',consolas,'Courier New',monospace\"></pre>\n"
      ],
      "text/plain": []
     },
     "metadata": {},
     "output_type": "display_data"
    },
    {
     "data": {
      "application/vnd.jupyter.widget-view+json": {
       "model_id": "9cd5138947da4dc7b54fb551404c2fe1",
       "version_major": 2,
       "version_minor": 0
      },
      "text/plain": [
       "Output()"
      ]
     },
     "metadata": {},
     "output_type": "display_data"
    },
    {
     "data": {
      "text/html": [
       "<pre style=\"white-space:pre;overflow-x:auto;line-height:normal;font-family:Menlo,'DejaVu Sans Mono',consolas,'Courier New',monospace\"></pre>\n"
      ],
      "text/plain": []
     },
     "metadata": {},
     "output_type": "display_data"
    }
   ],
   "source": [
    "# Get intraday data from histdata.com\n",
    "%debug\n",
    "year = 2024\n",
    "currency = \"gbpusd\"\n",
    "import_pair(pair=currency, start=f\"{year}01\", end=f\"{year}12\", data_directory=r\"data/raw\")"
   ]
  },
  {
   "cell_type": "markdown",
   "metadata": {},
   "source": [
    "**Create Renko Brick Data**"
   ]
  },
  {
   "cell_type": "code",
   "execution_count": 6,
   "metadata": {},
   "outputs": [
    {
     "name": "stderr",
     "output_type": "stream",
     "text": [
      "ERROR:root:No traceback has been produced, nothing to debug.\n"
     ]
    },
    {
     "name": "stdout",
     "output_type": "stream",
     "text": [
      "Tick-like data has been saved to tick_like_data.csv\n",
      "   tick_number            datetime    price  actual_openprice  ticks_moved  \\\n",
      "0            1 2024-01-01 17:46:00  1.27284           1.27287            1   \n",
      "1            2 2024-01-01 21:38:00  1.27184           1.27171            1   \n",
      "2            3 2024-01-02 00:43:00  1.27284           1.27290            1   \n",
      "3            4 2024-01-02 00:53:00  1.27384           1.27395            1   \n",
      "4            5 2024-01-02 03:07:00  1.27484           1.27506            1   \n",
      "\n",
      "   directions  fx_return day_of_week  \n",
      "0           1        NaN      Monday  \n",
      "1          -1  -0.091133      Monday  \n",
      "2           1   0.093575     Tuesday  \n",
      "3           1   0.082489     Tuesday  \n",
      "4           1   0.087131     Tuesday  \n"
     ]
    },
    {
     "data": {
      "text/html": [
       "<div>\n",
       "<style scoped>\n",
       "    .dataframe tbody tr th:only-of-type {\n",
       "        vertical-align: middle;\n",
       "    }\n",
       "\n",
       "    .dataframe tbody tr th {\n",
       "        vertical-align: top;\n",
       "    }\n",
       "\n",
       "    .dataframe thead th {\n",
       "        text-align: right;\n",
       "    }\n",
       "</style>\n",
       "<table border=\"1\" class=\"dataframe\">\n",
       "  <thead>\n",
       "    <tr style=\"text-align: right;\">\n",
       "      <th></th>\n",
       "      <th>tick_number</th>\n",
       "      <th>datetime</th>\n",
       "      <th>price</th>\n",
       "      <th>actual_openprice</th>\n",
       "      <th>ticks_moved</th>\n",
       "      <th>directions</th>\n",
       "      <th>fx_return</th>\n",
       "      <th>day_of_week</th>\n",
       "    </tr>\n",
       "  </thead>\n",
       "  <tbody>\n",
       "    <tr>\n",
       "      <th>0</th>\n",
       "      <td>1</td>\n",
       "      <td>2024-01-01 17:46:00</td>\n",
       "      <td>1.27284</td>\n",
       "      <td>1.27287</td>\n",
       "      <td>1</td>\n",
       "      <td>1</td>\n",
       "      <td>NaN</td>\n",
       "      <td>Monday</td>\n",
       "    </tr>\n",
       "    <tr>\n",
       "      <th>1</th>\n",
       "      <td>2</td>\n",
       "      <td>2024-01-01 21:38:00</td>\n",
       "      <td>1.27184</td>\n",
       "      <td>1.27171</td>\n",
       "      <td>1</td>\n",
       "      <td>-1</td>\n",
       "      <td>-0.091133</td>\n",
       "      <td>Monday</td>\n",
       "    </tr>\n",
       "    <tr>\n",
       "      <th>2</th>\n",
       "      <td>3</td>\n",
       "      <td>2024-01-02 00:43:00</td>\n",
       "      <td>1.27284</td>\n",
       "      <td>1.27290</td>\n",
       "      <td>1</td>\n",
       "      <td>1</td>\n",
       "      <td>0.093575</td>\n",
       "      <td>Tuesday</td>\n",
       "    </tr>\n",
       "    <tr>\n",
       "      <th>3</th>\n",
       "      <td>4</td>\n",
       "      <td>2024-01-02 00:53:00</td>\n",
       "      <td>1.27384</td>\n",
       "      <td>1.27395</td>\n",
       "      <td>1</td>\n",
       "      <td>1</td>\n",
       "      <td>0.082489</td>\n",
       "      <td>Tuesday</td>\n",
       "    </tr>\n",
       "    <tr>\n",
       "      <th>4</th>\n",
       "      <td>5</td>\n",
       "      <td>2024-01-02 03:07:00</td>\n",
       "      <td>1.27484</td>\n",
       "      <td>1.27506</td>\n",
       "      <td>1</td>\n",
       "      <td>1</td>\n",
       "      <td>0.087131</td>\n",
       "      <td>Tuesday</td>\n",
       "    </tr>\n",
       "    <tr>\n",
       "      <th>...</th>\n",
       "      <td>...</td>\n",
       "      <td>...</td>\n",
       "      <td>...</td>\n",
       "      <td>...</td>\n",
       "      <td>...</td>\n",
       "      <td>...</td>\n",
       "      <td>...</td>\n",
       "      <td>...</td>\n",
       "    </tr>\n",
       "    <tr>\n",
       "      <th>5135</th>\n",
       "      <td>5136</td>\n",
       "      <td>2024-12-31 12:54:00</td>\n",
       "      <td>1.25184</td>\n",
       "      <td>1.25190</td>\n",
       "      <td>1</td>\n",
       "      <td>1</td>\n",
       "      <td>0.088744</td>\n",
       "      <td>Tuesday</td>\n",
       "    </tr>\n",
       "    <tr>\n",
       "      <th>5136</th>\n",
       "      <td>5137</td>\n",
       "      <td>2024-12-31 13:31:00</td>\n",
       "      <td>1.25084</td>\n",
       "      <td>1.25068</td>\n",
       "      <td>1</td>\n",
       "      <td>-1</td>\n",
       "      <td>-0.097452</td>\n",
       "      <td>Tuesday</td>\n",
       "    </tr>\n",
       "    <tr>\n",
       "      <th>5137</th>\n",
       "      <td>5138</td>\n",
       "      <td>2024-12-31 14:15:00</td>\n",
       "      <td>1.25184</td>\n",
       "      <td>1.25190</td>\n",
       "      <td>1</td>\n",
       "      <td>1</td>\n",
       "      <td>0.097547</td>\n",
       "      <td>Tuesday</td>\n",
       "    </tr>\n",
       "    <tr>\n",
       "      <th>5138</th>\n",
       "      <td>5139</td>\n",
       "      <td>2024-12-31 14:48:00</td>\n",
       "      <td>1.25084</td>\n",
       "      <td>1.25083</td>\n",
       "      <td>1</td>\n",
       "      <td>-1</td>\n",
       "      <td>-0.085470</td>\n",
       "      <td>Tuesday</td>\n",
       "    </tr>\n",
       "    <tr>\n",
       "      <th>5139</th>\n",
       "      <td>5140</td>\n",
       "      <td>2024-12-31 15:07:00</td>\n",
       "      <td>1.25184</td>\n",
       "      <td>1.25200</td>\n",
       "      <td>1</td>\n",
       "      <td>1</td>\n",
       "      <td>0.093538</td>\n",
       "      <td>Tuesday</td>\n",
       "    </tr>\n",
       "  </tbody>\n",
       "</table>\n",
       "<p>5140 rows × 8 columns</p>\n",
       "</div>"
      ],
      "text/plain": [
       "      tick_number            datetime    price  actual_openprice  ticks_moved  \\\n",
       "0               1 2024-01-01 17:46:00  1.27284           1.27287            1   \n",
       "1               2 2024-01-01 21:38:00  1.27184           1.27171            1   \n",
       "2               3 2024-01-02 00:43:00  1.27284           1.27290            1   \n",
       "3               4 2024-01-02 00:53:00  1.27384           1.27395            1   \n",
       "4               5 2024-01-02 03:07:00  1.27484           1.27506            1   \n",
       "...           ...                 ...      ...               ...          ...   \n",
       "5135         5136 2024-12-31 12:54:00  1.25184           1.25190            1   \n",
       "5136         5137 2024-12-31 13:31:00  1.25084           1.25068            1   \n",
       "5137         5138 2024-12-31 14:15:00  1.25184           1.25190            1   \n",
       "5138         5139 2024-12-31 14:48:00  1.25084           1.25083            1   \n",
       "5139         5140 2024-12-31 15:07:00  1.25184           1.25200            1   \n",
       "\n",
       "      directions  fx_return day_of_week  \n",
       "0              1        NaN      Monday  \n",
       "1             -1  -0.091133      Monday  \n",
       "2              1   0.093575     Tuesday  \n",
       "3              1   0.082489     Tuesday  \n",
       "4              1   0.087131     Tuesday  \n",
       "...          ...        ...         ...  \n",
       "5135           1   0.088744     Tuesday  \n",
       "5136          -1  -0.097452     Tuesday  \n",
       "5137           1   0.097547     Tuesday  \n",
       "5138          -1  -0.085470     Tuesday  \n",
       "5139           1   0.093538     Tuesday  \n",
       "\n",
       "[5140 rows x 8 columns]"
      ]
     },
     "execution_count": 6,
     "metadata": {},
     "output_type": "execute_result"
    }
   ],
   "source": [
    "# Convet_to_tick function : create renko data from intraday historical data\n",
    "%debug\n",
    "\n",
    "year = \"2024\"\n",
    "ccy = \"gbpusd\"\n",
    "brick_size = 0.001 # 0.001 for EURUSD/EURGBP/GBPUSD, 0.1 for USDJPY\n",
    "use_first_price_as_base=False # True: use first price as base, False: use previous price as base\n",
    "\n",
    "csv_filepath = rf'{notebook_path}\\data\\raw\\ASCII\\M1\\{ccy.lower()}\\{year}'\n",
    "csv_filename = f'DAT_ASCII_{ccy.upper()}_M1_{year}.csv'\n",
    "\n",
    "if (use_first_price_as_base):\n",
    "    output_filename = f'{year}_{ccy.lower()}_tick_first_price_as_base.csv'\n",
    "else:\n",
    "    output_filename = f'{year}_{ccy.lower()}_tick_prev_price_as_base.csv'\n",
    "\n",
    "convert_to_tick(csv_filepath, csv_filename, output_file_path, output_filename, brick_size, use_first_price_as_base) "
   ]
  }
 ],
 "metadata": {
  "kernelspec": {
   "display_name": "fx_strategy_env",
   "language": "python",
   "name": "python3"
  },
  "language_info": {
   "codemirror_mode": {
    "name": "ipython",
    "version": 3
   },
   "file_extension": ".py",
   "mimetype": "text/x-python",
   "name": "python",
   "nbconvert_exporter": "python",
   "pygments_lexer": "ipython3",
   "version": "3.12.9"
  }
 },
 "nbformat": 4,
 "nbformat_minor": 2
}
