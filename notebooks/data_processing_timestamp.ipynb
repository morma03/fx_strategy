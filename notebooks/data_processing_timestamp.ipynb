{
 "cells": [
  {
   "cell_type": "code",
   "execution_count": 4,
   "metadata": {},
   "outputs": [],
   "source": [
    "import sys\n",
    "import os\n",
    "sys.path.append(os.path.abspath(os.path.join(os.getcwd(), '../src')))\n",
    "from utils.data_processing_timestamp import convert_to_every_30min\n",
    "from utils.data_processing_timestamp import resample_fx_return_by_every_hour\n",
    "notebook_path = os.path.abspath(os.path.join(os.getcwd(), '../notebooks'))\n",
    "output_file_path = rf'{notebook_path}\\output'"
   ]
  },
  {
   "cell_type": "code",
   "execution_count": 3,
   "metadata": {},
   "outputs": [
    {
     "name": "stdout",
     "output_type": "stream",
     "text": [
      "> \u001b[1;32mc:\\users\\mmori\\appdata\\local\\temp\\ipykernel_14780\\203474545.py\u001b[0m(6)\u001b[0;36m<module>\u001b[1;34m()\u001b[0m\n",
      "\n"
     ]
    }
   ],
   "source": [
    "%debug\n",
    "\n",
    "year = \"2022\"\n",
    "ccy = \"eurgbp\"\n",
    "\n",
    "csv_filepath = rf'{notebook_path}\\data\\ASCII\\M1\\{ccy.lower()}\\{year}'\n",
    "csv_filename = f'DAT_ASCII_{ccy.upper()}_M1_{year}.csv'\n",
    "\n",
    "df = convert_to_every_30min(csv_filepath, csv_filename)\n",
    "\n",
    "output_filename = 'resampled_fx.csv'\n",
    "full_path = os.path.join(output_file_path, output_filename)\n",
    "resample_fx_return_by_every_hour(df, full_path, aggregation_method='sum')\n"
   ]
  },
  {
   "cell_type": "code",
   "execution_count": null,
   "metadata": {},
   "outputs": [],
   "source": []
  },
  {
   "cell_type": "code",
   "execution_count": null,
   "metadata": {},
   "outputs": [],
   "source": []
  }
 ],
 "metadata": {
  "kernelspec": {
   "display_name": "fx_strategy_env",
   "language": "python",
   "name": "python3"
  },
  "language_info": {
   "codemirror_mode": {
    "name": "ipython",
    "version": 3
   },
   "file_extension": ".py",
   "mimetype": "text/x-python",
   "name": "python",
   "nbconvert_exporter": "python",
   "pygments_lexer": "ipython3",
   "version": "3.12.8"
  }
 },
 "nbformat": 4,
 "nbformat_minor": 2
}
