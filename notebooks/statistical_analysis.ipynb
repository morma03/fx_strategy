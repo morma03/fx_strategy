{
 "cells": [
  {
   "cell_type": "code",
   "execution_count": 1,
   "metadata": {},
   "outputs": [],
   "source": [
    "import sys\n",
    "import os\n",
    "sys.path.append(os.path.abspath(r'C:\\Users\\mmori\\Documents\\fx_strategy_project\\src'))\n",
    "from utils.statistical_analysis import correlation_analysis"
   ]
  },
  {
   "cell_type": "code",
   "execution_count": 3,
   "metadata": {},
   "outputs": [
    {
     "name": "stdout",
     "output_type": "stream",
     "text": [
      "          datetime      open      high       low     close  volume\n",
      "0  20230102 180000  3872.998  3877.176  3863.860  3865.983       0\n",
      "1  20230102 180100  3866.128  3867.372  3865.378  3865.980       0\n",
      "2  20230102 180200  3865.878  3866.878  3865.360  3865.881       0\n",
      "3  20230102 180300  3865.742  3865.742  3862.860  3863.613       0\n",
      "4  20230102 180400  3863.363  3863.363  3860.742  3860.878       0\n",
      "          datetime     open     high      low    close  volume\n",
      "0  20230101 170000  130.925  130.925  130.910  130.921       0\n",
      "1  20230101 170100  130.921  130.962  130.921  130.960       0\n",
      "2  20230101 170200  130.960  130.960  130.959  130.959       0\n",
      "3  20230101 170400  130.943  130.943  130.808  130.820       0\n",
      "4  20230101 170500  130.825  130.825  130.814  130.814       0\n",
      "             datetime  open_spxusd  high_spxusd  low_spxusd  close_spxusd  \\\n",
      "0 2023-01-02 18:00:00     3872.998     3877.176    3863.860      3865.983   \n",
      "1 2023-01-02 18:01:00     3866.128     3867.372    3865.378      3865.980   \n",
      "2 2023-01-02 18:02:00     3865.878     3866.878    3865.360      3865.881   \n",
      "3 2023-01-02 18:03:00     3865.742     3865.742    3862.860      3863.613   \n",
      "4 2023-01-02 18:04:00     3863.363     3863.363    3860.742      3860.878   \n",
      "\n",
      "   volume_spxusd  open_usdjpy  high_usdjpy  low_usdjpy  close_usdjpy  \\\n",
      "0              0      130.925      130.925     130.910       130.921   \n",
      "1              0      130.921      130.962     130.921       130.960   \n",
      "2              0      130.960      130.960     130.959       130.959   \n",
      "3              0      130.943      130.943     130.808       130.820   \n",
      "4              0      130.825      130.825     130.814       130.814   \n",
      "\n",
      "   volume_usdjpy  \n",
      "0              0  \n",
      "1              0  \n",
      "2              0  \n",
      "3              0  \n",
      "4              0  \n",
      "-0.0013669195238736316\n"
     ]
    }
   ],
   "source": [
    "year = \"2023\"\n",
    "target_ccy = \"usdjpy\"\n",
    "feature_ccy = \"spxusd\"\n",
    "\n",
    "output_file_path = r'C:\\Users\\mmori\\Documents\\fx_strategy_project\\notebooks\\output'\n",
    "\n",
    "target_filepath = rf'C:\\Users\\mmori\\Documents\\fx_strategy_project\\notebooks\\data\\ASCII\\M1\\{target_ccy.lower()}\\{year}\\DAT_ASCII_{target_ccy.upper()}_M1_{year}.csv'\n",
    "feature_filepath = rf'C:\\Users\\mmori\\Documents\\fx_strategy_project\\notebooks\\data\\ASCII\\M1\\{feature_ccy.lower()}\\{year}\\DAT_ASCII_{feature_ccy.upper()}_M1_{year}.csv'\n",
    "correlation_analysis(target_filepath, feature_filepath, target_ccy, feature_ccy, year, output_file_path)"
   ]
  }
 ],
 "metadata": {
  "kernelspec": {
   "display_name": "fx_strategy_env",
   "language": "python",
   "name": "python3"
  },
  "language_info": {
   "codemirror_mode": {
    "name": "ipython",
    "version": 3
   },
   "file_extension": ".py",
   "mimetype": "text/x-python",
   "name": "python",
   "nbconvert_exporter": "python",
   "pygments_lexer": "ipython3",
   "version": "3.12.8"
  }
 },
 "nbformat": 4,
 "nbformat_minor": 2
}
